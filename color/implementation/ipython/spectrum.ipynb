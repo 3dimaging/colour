{
 "metadata": {
  "name": "",
  "signature": "sha256:f108ec698dcdb7b6ce503f180dd9426415751cf6e76c46bafb09ea1eac7c6f7e"
 },
 "nbformat": 3,
 "nbformat_minor": 0,
 "worksheets": [
  {
   "cells": [
    {
     "cell_type": "heading",
     "level": 1,
     "metadata": {},
     "source": [
      "Spectrum"
     ]
    },
    {
     "cell_type": "markdown",
     "metadata": {},
     "source": [
      "[Color](http://en.wikipedia.org/wiki/Color) is the property of a surface to produce different visual sensations as a result of the way it reflects or emits light.\n",
      "\n",
      "[Light](http://en.wikipedia.org/wiki/Light) is the electromagnetic radiation perceived by the human eye in the approximate wavelength range 360-780 nanometres (nm). That portion of the electromatic radiation frequencies is called the [visible spectrum](http://en.wikipedia.org/wiki/Visible_spectrum)."
     ]
    },
    {
     "cell_type": "code",
     "collapsed": false,
     "input": [
      "from color.implementation.matplotlib.plots import *\n",
      "\n",
      "# Plotting the visible spectrum.\n",
      "visible_spectrum_plot()"
     ],
     "language": "python",
     "metadata": {},
     "outputs": [
      {
       "metadata": {},
       "output_type": "display_data",
       "png": "[encoded data removed]",
       "text": [
        "<matplotlib.figure.Figure at 0x1062d48d0>"
       ]
      },
      {
       "metadata": {},
       "output_type": "pyout",
       "prompt_number": 1,
       "text": [
        "True"
       ]
      }
     ],
     "prompt_number": 1
    },
    {
     "cell_type": "markdown",
     "metadata": {},
     "source": [
      "Ligth interacts with surfaces through reflection, scattering, refraction, absorption and diffraction processes.\n",
      "\n",
      "[Reflectance](http://en.wikipedia.org/wiki/Reflectance) is the ratio of the total amount of electromagnetic radiation reflected by a surface to the total amount of electromagnetic radiation incident on the surface and is defined by spectral reflectance factors usually measured at uniformly spaced intervals in the visible spectrum.\n",
      "\n",
      "At the core of [Color](https://github.com/KelSolaar/Color/) is the *color.computation* sub-package, it defines the objects needed for spectral and other kind of computations:"
     ]
    },
    {
     "cell_type": "code",
     "collapsed": false,
     "input": [
      "import color.computation as computation\n",
      "dir(computation)"
     ],
     "language": "python",
     "metadata": {},
     "outputs": [
      {
       "metadata": {},
       "output_type": "pyout",
       "prompt_number": 2,
       "text": [
        "['__builtins__',\n",
        " '__doc__',\n",
        " '__file__',\n",
        " '__name__',\n",
        " '__package__',\n",
        " '__path__',\n",
        " 'blackbody',\n",
        " 'chromatic_adaptation',\n",
        " 'cmfs',\n",
        " 'colorspace',\n",
        " 'correction',\n",
        " 'cri',\n",
        " 'derivation',\n",
        " 'difference',\n",
        " 'illuminants',\n",
        " 'lefs',\n",
        " 'lightness',\n",
        " 'spectrum',\n",
        " 'temperature',\n",
        " 'transformations',\n",
        " 'tristimulus']"
       ]
      }
     ],
     "prompt_number": 2
    },
    {
     "cell_type": "markdown",
     "metadata": {},
     "source": [
      "> Note: *color.computation* sub-package public API is directly available from *color* namespace."
     ]
    },
    {
     "cell_type": "markdown",
     "metadata": {},
     "source": [
      "[Color](https://github.com/KelSolaar/Color/) computations are based on a comprehensive dataset available in the *color.data* sub-package:"
     ]
    },
    {
     "cell_type": "code",
     "collapsed": false,
     "input": [
      "import color.dataset as dataset\n",
      "dir(dataset)"
     ],
     "language": "python",
     "metadata": {},
     "outputs": [
      {
       "metadata": {},
       "output_type": "pyout",
       "prompt_number": 3,
       "text": [
        "['__builtins__',\n",
        " '__doc__',\n",
        " '__file__',\n",
        " '__name__',\n",
        " '__package__',\n",
        " '__path__',\n",
        " 'cmfs',\n",
        " 'color_checkers',\n",
        " 'colorspaces',\n",
        " 'illuminants',\n",
        " 'lefs',\n",
        " 'tcs']"
       ]
      }
     ],
     "prompt_number": 3
    },
    {
     "cell_type": "heading",
     "level": 2,
     "metadata": {},
     "source": [
      "Spectral Power Distribution"
     ]
    },
    {
     "cell_type": "markdown",
     "metadata": {},
     "source": [
      "Whether it be a sample spectral power distribution, color matching functions or illuminants, spectral data is manipulated using an object built with the *color.SpectralPowerDistribution* class or upon on it:"
     ]
    },
    {
     "cell_type": "code",
     "collapsed": false,
     "input": [
      "import color\n",
      "\n",
      "# Defining a sample spectral power distribution data.\n",
      "sample_spd_data = {\n",
      "    380: 0.048,\n",
      "    385: 0.051,\n",
      "    390: 0.055,\n",
      "    395: 0.06,\n",
      "    400: 0.065,\n",
      "    405: 0.068,\n",
      "    410: 0.068,\n",
      "    415: 0.067,\n",
      "    420: 0.064,\n",
      "    425: 0.062,\n",
      "    430: 0.059,\n",
      "    435: 0.057,\n",
      "    440: 0.055,\n",
      "    445: 0.054,\n",
      "    450: 0.053,\n",
      "    455: 0.053,\n",
      "    460: 0.052,\n",
      "    465: 0.052,\n",
      "    470: 0.052,\n",
      "    475: 0.053,\n",
      "    480: 0.054,\n",
      "    485: 0.055,\n",
      "    490: 0.057,\n",
      "    495: 0.059,\n",
      "    500: 0.061,\n",
      "    505: 0.062,\n",
      "    510: 0.065,\n",
      "    515: 0.067,\n",
      "    520: 0.07,\n",
      "    525: 0.072,\n",
      "    530: 0.074,\n",
      "    535: 0.075,\n",
      "    540: 0.076,\n",
      "    545: 0.078,\n",
      "    550: 0.079,\n",
      "    555: 0.082,\n",
      "    560: 0.087,\n",
      "    565: 0.092,\n",
      "    570: 0.1,\n",
      "    575: 0.107,\n",
      "    580: 0.115,\n",
      "    585: 0.122,\n",
      "    590: 0.129,\n",
      "    595: 0.134,\n",
      "    600: 0.138,\n",
      "    605: 0.142,\n",
      "    610: 0.146,\n",
      "    615: 0.15,\n",
      "    620: 0.154,\n",
      "    625: 0.158,\n",
      "    630: 0.163,\n",
      "    635: 0.167,\n",
      "    640: 0.173,\n",
      "    645: 0.18,\n",
      "    650: 0.188,\n",
      "    655: 0.196,\n",
      "    660: 0.204,\n",
      "    665: 0.213,\n",
      "    670: 0.222,\n",
      "    675: 0.231,\n",
      "    680: 0.242,\n",
      "    685: 0.251,\n",
      "    690: 0.261,\n",
      "    695: 0.271,\n",
      "    700: 0.282,\n",
      "    705: 0.294,\n",
      "    710: 0.305,\n",
      "    715: 0.318,\n",
      "    720: 0.334,\n",
      "    725: 0.354,\n",
      "    730: 0.372,\n",
      "    735: 0.392,\n",
      "    740: 0.409,\n",
      "    745: 0.42,\n",
      "    750: 0.436,\n",
      "    755: 0.45,\n",
      "    760: 0.462,\n",
      "    765: 0.465,\n",
      "    770: 0.448,\n",
      "    775: 0.432,\n",
      "    780: 0.421}\n",
      "\n",
      "spd = color.SpectralPowerDistribution(name=\"Sample\", spd=sample_spd_data)\n",
      "print(spd)"
     ],
     "language": "python",
     "metadata": {},
     "outputs": [
      {
       "output_type": "stream",
       "stream": "stdout",
       "text": [
        "<color.computation.spectrum.SpectralPowerDistribution object at 0x1062813d0>\n"
       ]
      }
     ],
     "prompt_number": 4
    },
    {
     "cell_type": "markdown",
     "metadata": {},
     "source": [
      "Plotting the sample spectral power distribution with the spectrum:"
     ]
    },
    {
     "cell_type": "code",
     "collapsed": false,
     "input": [
      "# Plotting the sample spectral power distribution.\n",
      "single_spd_plot(spd)"
     ],
     "language": "python",
     "metadata": {},
     "outputs": []
    },
    {
     "cell_type": "markdown",
     "metadata": {},
     "source": [
      "With the sample spectral power distribution defined, we can retrieve its shape: "
     ]
    },
    {
     "cell_type": "code",
     "collapsed": false,
     "input": [
      "# Displaying the sample spectral power distribution shape.\n",
      "print(spd.shape)"
     ],
     "language": "python",
     "metadata": {},
     "outputs": []
    },
    {
     "cell_type": "markdown",
     "metadata": {},
     "source": [
      "Often interpolation of the spectral power distribution is needed, this is achieved with the *color.SpectralPowerDistribution.interpolate* method. Depending on the wavelengths uniformity, the default interpolation method will differ. Following *CIE 167:2005* recommendation: The method developed by *Sprague* (1880) should be used for interpolating functions having a uniformly spaced independent variable and a *Cubic Spline* method for non-uniformly spaced independent variable. <a name=\"back_reference_1\"><a href=\"#reference_1\">[1]</a></a>\n",
      "\n",
      "We can check the uniformity of the sample spectral power distribution:"
     ]
    },
    {
     "cell_type": "code",
     "collapsed": false,
     "input": [
      "# Checking the sample spectral power distribution uniformity.\n",
      "print(spd.is_uniform())"
     ],
     "language": "python",
     "metadata": {},
     "outputs": []
    },
    {
     "cell_type": "markdown",
     "metadata": {},
     "source": [
      "Since the sample spectral power distribution is uniform the interpolation will be using the *color.SpragueInterpolator* interpolator.\n",
      "\n",
      "> Note: Interpolation happens in place and may alter your original data, use the *color.SpectralPowerDistribution.clone* method to produce a copy of your spectral power distribution before interpolation.\n"
     ]
    },
    {
     "cell_type": "code",
     "collapsed": false,
     "input": [
      "# Cloning the sample spectral power distribution.\n",
      "clone_spd = spd.clone()\n",
      "\n",
      "# Interpolating the cloned sample spectral power distribution.\n",
      "clone_spd.interpolate(start=400, end=770, steps=1)\n",
      "clone_spd[401]"
     ],
     "language": "python",
     "metadata": {},
     "outputs": []
    },
    {
     "cell_type": "code",
     "collapsed": false,
     "input": [
      "# Comparing the interpolated spectral power distribution with the original one.\n",
      "multi_spd_plot([spd, clone_spd], bounding_box=[730,780, 0.1, 0.5])"
     ],
     "language": "python",
     "metadata": {},
     "outputs": []
    },
    {
     "cell_type": "markdown",
     "metadata": {},
     "source": [
      "Extrapolation although dangerous can be used to help aligning two spectral power distributions together. *CIE publication CIE 15:2004 \"Colorimetry\"* recommends that unmeasured values may be set equal to the nearest measured value of the appropriate quantity in truncation: <a name=\"back_reference_2\"><a href=\"#reference_2\">[2]</a></a>"
     ]
    },
    {
     "cell_type": "code",
     "collapsed": false,
     "input": [
      "# Extrapolating the cloned sample spectral power distribution.\n",
      "clone_spd.extrapolate(start=340, end=830)\n",
      "clone_spd[340], clone_spd[360]"
     ],
     "language": "python",
     "metadata": {},
     "outputs": []
    },
    {
     "cell_type": "markdown",
     "metadata": {},
     "source": [
      "Aligning a spectral power distribution is a convenient way to first interpolates the current data within its original bounds then if needed extrapolates any missing values to match the requested shape:"
     ]
    },
    {
     "cell_type": "code",
     "collapsed": false,
     "input": [
      "# Aligning the cloned sample spectral power distribution.\n",
      "clone_spd.align(start=400, end=700, steps=5)\n",
      "print(clone_spd[400], clone_spd[700])"
     ],
     "language": "python",
     "metadata": {},
     "outputs": []
    },
    {
     "cell_type": "markdown",
     "metadata": {},
     "source": [
      "The *color.SpectralPowerDistribution* class also supports various arithmetic operations like addition, subtraction, multiplication or division:"
     ]
    },
    {
     "cell_type": "code",
     "collapsed": false,
     "input": [
      "spd = color.SpectralPowerDistribution(\"Sample\", {\"410\": 0.50, \"420\": 0.75, \"430\": 1., \"440\": 0.75,  \"450\": 0.50})\n",
      "print((spd.clone() + 1).values)\n",
      "print((spd.clone() * 2).values)\n",
      "print((spd * [0.35, 1.55, 0.75, 2.55, 0.95]).values)"
     ],
     "language": "python",
     "metadata": {},
     "outputs": []
    },
    {
     "cell_type": "markdown",
     "metadata": {},
     "source": [
      "The spectral power distribution can be normalized with an arbitrary factor:"
     ]
    },
    {
     "cell_type": "code",
     "collapsed": false,
     "input": [
      "print(spd.normalize().values)\n",
      "print(spd.normalize(100).values)"
     ],
     "language": "python",
     "metadata": {},
     "outputs": []
    },
    {
     "cell_type": "heading",
     "level": 2,
     "metadata": {},
     "source": [
      "Color Matching Functions"
     ]
    },
    {
     "cell_type": "markdown",
     "metadata": {},
     "source": [
      "In the late 1920's *W. David Wright* (1928) and *John Guild* (1931) independently conducted a series of color matching experiments to quantify the color ability of an average human observer which laid the foundation for the specification of the [CIE XYZ colorspace](http://en.wikipedia.org/wiki/CIE_color_space#Definition_of_the_CIE_XYZ_color_space). The results obtained were summarized by the *Wright & Guild 1931 2\u00b0 RGB CMFs* $\\bar{r}(\\lambda)$,$\\bar{g}(\\lambda)$,$\\bar{b}(\\lambda)$ color matching functions: they represent the amounts of three monochromatic primary colors $\\textbf{R}$,$\\textbf{G}$,$\\textbf{B}$ needed to match the test color at a single wavelength of light.\n",
      "\n",
      "> See Also: The [Color Matching Functions](cmfs.ipynb) notebook for in-depth informations about the color matching functions."
     ]
    },
    {
     "cell_type": "code",
     "collapsed": false,
     "input": [
      "# Plotting *Wright & Guild 1931 2 Degree RGB CMFs* color matching functions.\n",
      "single_cmfs_plot(\"Wright & Guild 1931 2 Degree RGB CMFs\", legend_location=\"lower right\")"
     ],
     "language": "python",
     "metadata": {},
     "outputs": []
    },
    {
     "cell_type": "markdown",
     "metadata": {},
     "source": [
      "With an RGB model of human vision based on *Wright & Guild 1931 2\u00b0 RGB CMFs* $\\bar{r}(\\lambda)$,$\\bar{g}(\\lambda)$,$\\bar{b}(\\lambda)$ color matching functions and for pragmatic reasons the *CIE* members developed a new color space that would relate to the *CIE RGB* colorspace but for which all tristimulus values would be positive for real colors: *CIE XYZ* described with $\\bar{x}(\\lambda)$,$\\bar{y}(\\lambda)$,$\\bar{z}(\\lambda)$ color matching functions."
     ]
    },
    {
     "cell_type": "code",
     "collapsed": false,
     "input": [
      "# Plotting *CIE XYZ 1931 2 Degree Standard Observer* color matching functions.\n",
      "single_cmfs_plot(\"CIE 1931 2 Degree Standard Observer\")"
     ],
     "language": "python",
     "metadata": {},
     "outputs": []
    },
    {
     "cell_type": "markdown",
     "metadata": {},
     "source": [
      "In the 1960's it appeared that cones were present in a larger region of eye than the one initially covered by the experiments that lead to the *CIE 1931 2\u00b0 Standard Observer* specification.\n",
      "\n",
      "As a result, color calculations done with the *CIE 1931 2\u00b0 Standard Observer* do not always correlate to the visual observation.\n",
      "\n",
      "In 1964, the *CIE* defined an additional standard observer: the *CIE 1964 10\u00b0 Standard Observer* derived from the work of *Stiles* and *Burch*, and *Speranskaya*. The *CIE 1964 10\u00b0 Standard Observer* is believed to be a better representation of the human vision spectral response and recommended when dealing with a field of view of more than 4\u00b0.\n",
      "\n",
      "For example and as per *CIE* recommendation, the *CIE 1964 10\u00b0 Standard Observer* is commonly used with spectrophotometers for color measurements whereas colorimeters generally use the *CIE 1931 2\u00b0 Standard Observer* for quality control and other color evaluation applications."
     ]
    },
    {
     "cell_type": "heading",
     "level": 2,
     "metadata": {},
     "source": [
      "CIE XYZ Tristimulus Values"
     ]
    },
    {
     "cell_type": "markdown",
     "metadata": {},
     "source": [
      "The *CIE XYZ* tristimulus values specify a color stimulus in terms of the visual system. Their values for color of a surface with spectral reflectance $\\beta(\\lambda)$ under an illuminant of relative spectral power $S(\\lambda)$ are calculated using the following equations: <a name=\"back_reference_3\"><a href=\"#reference_3\">[3]</a></a>\n",
      "\n",
      "$$\n",
      "\\begin{equation}\n",
      "X=k\\int_{\\lambda}\\beta(\\lambda)S(\\lambda)\\bar{x}(\\lambda)d\\lambda\\\\\n",
      "Y=k\\int_{\\lambda}\\beta(\\lambda)S(\\lambda)\\bar{y}(\\lambda)d\\lambda\\\\\n",
      "Z=k\\int_{\\lambda}\\beta(\\lambda)S(\\lambda)\\bar{z}(\\lambda)d\\lambda\n",
      "\\end{equation}\n",
      "$$\n",
      "where\n",
      "$$\n",
      "\\begin{equation}\n",
      "k=\\cfrac{100}{\\int_{\\lambda}S(\\lambda)\\bar{y}(\\lambda)d\\lambda}\n",
      "\\end{equation}\n",
      "$$\n",
      "\n",
      "However in virtually all practical calculations of *CIE XYZ* tristimulus values, the integrals are replaced by summations:\n",
      "\n",
      "$$\n",
      "\\begin{equation}\n",
      "X=k\\sum\\limits_{\\lambda=\\lambda_a}^{\\lambda_b}\\beta(\\lambda)S(\\lambda)\\bar{x}(\\lambda)\\Delta\\lambda\\\\\n",
      "Y=k\\sum\\limits_{\\lambda=\\lambda_a}^{\\lambda_b}\\beta(\\lambda)S(\\lambda)\\bar{y}(\\lambda)\\Delta\\lambda\\\\\n",
      "Z=k\\sum\\limits_{\\lambda=\\lambda_a}^{\\lambda_b}\\beta(\\lambda)S(\\lambda)\\bar{z}(\\lambda)\\Delta\\lambda\\\\\n",
      "\\end{equation}\n",
      "$$\n",
      "where\n",
      "$$\n",
      "\\begin{equation}\n",
      "k=\\cfrac{100}{\\sum\\limits_{\\lambda=\\lambda_a}^{\\lambda_b}S(\\lambda)\\bar{y}(\\lambda)\\Delta\\lambda}\n",
      "\\end{equation}\n",
      "$$\n",
      "\n",
      "Calculating the *CIE XYZ* tristimulus values of a color stimulus is done using the *color.spectral_to_XYZ* definition:"
     ]
    },
    {
     "cell_type": "code",
     "collapsed": false,
     "input": [
      "spd = color.SpectralPowerDistribution(name=\"Sample\", spd=sample_spd_data)\n",
      "cmfs = color.STANDARD_OBSERVERS_CMFS[\"CIE 1931 2 Degree Standard Observer\"]\n",
      "illuminant = color.ILLUMINANTS_RELATIVE_SPDS[\"A\"]\n",
      "\n",
      "# Calculating the sample spectral power distribution *CIE XYZ* tristimulus values.\n",
      "color.spectral_to_XYZ(spd, cmfs, illuminant)"
     ],
     "language": "python",
     "metadata": {},
     "outputs": []
    },
    {
     "cell_type": "markdown",
     "metadata": {},
     "source": [
      "*CIE XYZ* tristimulus values can be plotted into the *CIE 1931 Chromaticity Diagram*:"
     ]
    },
    {
     "cell_type": "code",
     "collapsed": false,
     "input": [
      "import pylab\n",
      "import color\n",
      "\n",
      "# Plotting the *CIE 1931 Chromaticity Diagram*.\n",
      "# The argument *standalone=False* is passed so that the plot doesn't get displayed\n",
      "# and can be used as a basis for other plots.\n",
      "CIE_1931_chromaticity_diagram_plot(standalone=False)\n",
      "\n",
      "# Calculating the *xy* chromaticity coordinates.\n",
      "x, y = color.XYZ_to_xy(color.spectral_to_XYZ(spd, cmfs, illuminant))\n",
      "\n",
      "# Plotting the *xy* chromaticity coordinates.\n",
      "pylab.plot(x, y, \"o-\", color=\"white\")\n",
      "\n",
      "# Annotating the plot.\n",
      "pylab.annotate(spd.name,\n",
      "               xy=(x, y),\n",
      "               xytext=(-50, 30),\n",
      "               textcoords=\"offset points\",\n",
      "               arrowprops=dict(arrowstyle=\"->\", connectionstyle=\"arc3, rad=-0.2\"))\n",
      "\n",
      "# Displaying the plot.\n",
      "display(standalone=True)"
     ],
     "language": "python",
     "metadata": {},
     "outputs": []
    },
    {
     "cell_type": "markdown",
     "metadata": {},
     "source": [
      "Retrieving the *CIE XYZ* tristimulus values of any wavelength from color matching functions is done using the *color.wavelength_to_XYZ* definition, if the value requested is not available, the color matching functions will be interpolated following *CIE 167:2005* recommendation:"
     ]
    },
    {
     "cell_type": "code",
     "collapsed": false,
     "input": [
      "color.wavelength_to_XYZ(546.1, color.STANDARD_OBSERVERS_CMFS[\"CIE 1931 2 Degree Standard Observer\"])"
     ],
     "language": "python",
     "metadata": {},
     "outputs": []
    },
    {
     "cell_type": "heading",
     "level": 2,
     "metadata": {},
     "source": [
      "References"
     ]
    },
    {
     "cell_type": "markdown",
     "metadata": {},
     "source": [
      "1. <a href=\"#back_reference_1\">^<a> <a name=\"reference_1\"></a>http://div1.cie.co.at/?i_ca_id=551&pubid=47 (Last accessed 28 May 2014)\n",
      "2. <a href=\"#back_reference_2\">^<a> <a name=\"reference_2\"></a>https://law.resource.org/pub/us/cfr/ibr/003/cie.15.2004.pdf (Last accessed 28 May 2014)\n",
      "3. <a href=\"#back_reference_3\">^<a> <a name=\"reference_3\"></a>**Wyszecki & Stiles**, *Color Science - Concepts and Methods Data and Formulae - Second Edition*, Wiley Classics Library Edition, published 2000, ISBN-10: 0-471-39918-3, Page 158.\n"
     ]
    },
    {
     "cell_type": "code",
     "collapsed": false,
     "input": [],
     "language": "python",
     "metadata": {},
     "outputs": []
    }
   ],
   "metadata": {}
  }
 ]
}