{
 "metadata": {
  "name": "",
  "signature": "sha256:49ace9db60d20ce3ff423faf8d22f26dfea8b078c2b210c09635e68851444eb7"
 },
 "nbformat": 3,
 "nbformat_minor": 0,
 "worksheets": [
  {
   "cells": [
    {
     "cell_type": "markdown",
     "metadata": {},
     "source": [
      "Color\n",
      "=====\n",
      "\n",
      "Introduction\n",
      "------------\n",
      "\n",
      "[Color](https://github.com/KelSolaar/Color/) is a **Python** color science package implementing a comprehensive number of color theory transformations and algorithms.\n",
      "\n",
      "Usage\n",
      "-----\n",
      "\n",
      "This notebook is a companion guide and usage showcase. Most of the API is available from the **color** namespace:"
     ]
    },
    {
     "cell_type": "code",
     "collapsed": false,
     "input": [
      "import color\n",
      "print color.ILLUMINANTS_RELATIVE_SPD.keys()"
     ],
     "language": "python",
     "metadata": {},
     "outputs": []
    },
    {
     "cell_type": "markdown",
     "metadata": {},
     "source": [
      "The notebook has been divided in different chapters dedicated to a precise feature of the API:\n",
      "\n",
      "* [Spectral Calculations](spectral_calculations.ipynb)"
     ]
    }
   ],
   "metadata": {}
  }
 ]
}