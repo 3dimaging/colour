{
 "metadata": {
  "name": "",
  "signature": "sha256:fc215ac9089fddaca2d4871fdd2ef84ef9c7ba019682a425266e629fe603e109"
 },
 "nbformat": 3,
 "nbformat_minor": 0,
 "worksheets": [
  {
   "cells": [
    {
     "cell_type": "heading",
     "level": 1,
     "metadata": {},
     "source": [
      "Illuminants"
     ]
    },
    {
     "cell_type": "markdown",
     "metadata": {},
     "source": [
      "A [standard illuminant](http://en.wikipedia.org/wiki/Standard_illuminant) is a theoretical reproducible source of visible light with a known and published relative spectral power distribution.\n",
      "\n",
      "[Color](https://github.com/KelSolaar/Color/) has the following list of illuminants spectral power distribution defined:"
     ]
    },
    {
     "cell_type": "code",
     "collapsed": false,
     "input": [
      "import color\n",
      "\n",
      "print(sorted(color.ILLUMINANTS_RELATIVE_SPDS.keys()))"
     ],
     "language": "python",
     "metadata": {},
     "outputs": []
    },
    {
     "cell_type": "heading",
     "level": 2,
     "metadata": {},
     "source": [
      "CIE Standard Illuminant A"
     ]
    },
    {
     "cell_type": "markdown",
     "metadata": {},
     "source": [
      "As per *CIE publication CIE S005/E-1998*:\n",
      "\n",
      "> [CIE Standard Illuminant A](http://en.wikipedia.org/wiki/Standard_illuminant#Illuminant_A) is intended to represent typical, domestic, tungsten-filament lighting. Its relative spectral power distribution is that of a Planckian radiator at a temperature of approximately 2856 K. CIE standard illuminant A should be used in all applications of colorimetry involving the use of incandescent lighting, unless there are specific reasons for using a different illuminant.\n",
      "\n",
      "> Reference: http://www.cie.co.at/publ/abst/s005.html"
     ]
    },
    {
     "cell_type": "code",
     "collapsed": false,
     "input": [
      "from color.implementations.matplotlib.plots import *\n",
      "\n",
      "single_illuminant_relative_spd_plot(\"A\")"
     ],
     "language": "python",
     "metadata": {},
     "outputs": []
    },
    {
     "cell_type": "heading",
     "level": 2,
     "metadata": {},
     "source": [
      "CIE Standard Illuminant B"
     ]
    },
    {
     "cell_type": "markdown",
     "metadata": {},
     "source": [
      "[CIE Standard Illuminant B](http://en.wikipedia.org/wiki/Standard_illuminant#Illuminants_B_and_C) is a daylight simulator intended to represent direct noon sunlight with a *correlated color temperature* of 4874 K."
     ]
    },
    {
     "cell_type": "code",
     "collapsed": false,
     "input": [
      "single_illuminant_relative_spd_plot(\"B\")"
     ],
     "language": "python",
     "metadata": {},
     "outputs": []
    },
    {
     "cell_type": "heading",
     "level": 2,
     "metadata": {},
     "source": [
      "CIE Standard Illuminant C"
     ]
    },
    {
     "cell_type": "markdown",
     "metadata": {},
     "source": [
      "[CIE Standard Illuminant C](http://en.wikipedia.org/wiki/Standard_illuminant#Illuminants_B_and_C) is also a daylight simulator but intended to represent average daylight with a *correlated color temperature* of 6774 K.\n",
      "\n",
      "*CIE Standard Illuminant B* and *CIE Standard Illuminant C* are poor approximations of any common light source and deprecated in favor of *CIE Standard Illuminant D Series*. Both are deficient in their spectral distribution in the ultraviolet region which is important for fluorescent materials.\n",
      "\n",
      "As per *CIE publication CIE 15:2004 \"Colorimetry\"*:\n",
      "\n",
      "> Illuminant C does not have the status of a CIE standard but its relative spectral power distribution, tristimulus values and chromaticity coordinates are given in Table T.1 and Table T.3, as many practical measurement instruments and calculations still use this illuminant.\n",
      "\n",
      "> Reference: https://law.resource.org/pub/us/cfr/ibr/003/cie.15.2004.pdf\n",
      "\n"
     ]
    },
    {
     "cell_type": "code",
     "collapsed": false,
     "input": [
      "single_illuminant_relative_spd_plot(\"C\")"
     ],
     "language": "python",
     "metadata": {},
     "outputs": []
    },
    {
     "cell_type": "markdown",
     "metadata": {},
     "source": [
      "*CIE Standard Illuminant A*, *B*, and *C* relative spectral power distributions are shown here altogether:"
     ]
    },
    {
     "cell_type": "code",
     "collapsed": false,
     "input": [
      "multi_illuminants_relative_spd_plot([\"A\", \"B\", \"C\"])"
     ],
     "language": "python",
     "metadata": {},
     "outputs": []
    },
    {
     "cell_type": "code",
     "collapsed": false,
     "input": [
      "# Plotting *CIE Standard Illuminant A*, *B*, and *C* with their normalized colors.\n",
      "multi_illuminants_relative_spd_plot([\"A\", \"B\", \"C\"],\n",
      "                                    use_spds_colors=True,\n",
      "                                    normalize_spds_colors=True)"
     ],
     "language": "python",
     "metadata": {},
     "outputs": []
    },
    {
     "cell_type": "markdown",
     "metadata": {},
     "source": [
      "*CIE Standard Illuminant A*, *B*, and *C* chromaticity coordinates plotted against the [Planckian Locus](http://en.wikipedia.org/wiki/Planckian_locus) into the *CIE 1931 Chromaticity Diagram*:"
     ]
    },
    {
     "cell_type": "code",
     "collapsed": false,
     "input": [
      "planckian_locus_CIE_1931_chromaticity_diagram_plot([\"A\", \"B\", \"C\"])"
     ],
     "language": "python",
     "metadata": {},
     "outputs": []
    },
    {
     "cell_type": "markdown",
     "metadata": {},
     "source": [
      "Notice how the isotemperature lines are not perpendicular to the *Planckian Locus*, the *CIE 1960 UCS Chromaticity Diagram* with perpendicular isotemperature lines is better suited for *correlated color temperature* calculations:"
     ]
    },
    {
     "cell_type": "code",
     "collapsed": false,
     "input": [
      "planckian_locus_CIE_1960_UCS_chromaticity_diagram_plot([\"A\", \"B\", \"C\"])"
     ],
     "language": "python",
     "metadata": {},
     "outputs": []
    },
    {
     "cell_type": "code",
     "collapsed": false,
     "input": [
      "# Zooming into the *Planckian Locus*.\n",
      "planckian_locus_CIE_1960_UCS_chromaticity_diagram_plot([\"A\", \"B\", \"C\"],\n",
      "                                                       bounding_box=[0.15, 0.35, 0.25, 0.45])"
     ],
     "language": "python",
     "metadata": {},
     "outputs": []
    },
    {
     "cell_type": "heading",
     "level": 2,
     "metadata": {},
     "source": [
      " CIE Standard Illuminant D Series"
     ]
    },
    {
     "cell_type": "markdown",
     "metadata": {},
     "source": [
      "[CIE Standard Illuminant D Series](http://en.wikipedia.org/wiki/Standard_illuminant#Illuminant_series_D) are intended to model natural daylight and should be used in all colorimetric calculations requiring representative daylight.\n",
      "\n",
      "> Reference: http://www.cie.co.at/publ/abst/s005.html\n",
      "\n",
      "Relative spectral power distributions of the following *CIE Standard Illuminant D Series* are available:"
     ]
    },
    {
     "cell_type": "code",
     "collapsed": false,
     "input": [
      "import re\n",
      "sorted(filter(lambda x: re.match(\"D\\d{2}\", x), color.ILLUMINANTS_RELATIVE_SPDS.keys()))"
     ],
     "language": "python",
     "metadata": {},
     "outputs": []
    },
    {
     "cell_type": "markdown",
     "metadata": {},
     "source": [
      "The relative spectral power distribution $\\lbrace S_D(\\lambda)d\\lambda\\rbrace$ of a *CIE Standard Illuminant D Series* is the result of the linear combination of a mean distribution $\\lbrace S_0(\\lambda)d\\lambda\\rbrace$ and two distributions $\\lbrace S_1(\\lambda)d\\lambda\\rbrace$ and $\\lbrace S_2(\\lambda)d\\lambda\\rbrace$ being the most important *eigen vectors* of the all daylight distributions:\n",
      "\n",
      "$$\n",
      "S_D(\\lambda)=S_0(\\lambda) + M_1S_1(\\lambda) + M_2S_2(\\lambda)\n",
      "$$\n",
      "where\n",
      "$$\n",
      "M_1 = \\cfrac{-1.3515 -1.7703x_d + 5.9114y_d}{M}\\\\\n",
      "M_2 = \\cfrac{0.0300 -31.4424x_d + 30.0717y_d}{M}\\\\\n",
      "M = 0.0241 + 0.2562x_d -0.7341y_d\n",
      "$$\n",
      "\n",
      "> Reference: [**Bruce Lindbloom**](http://www.brucelindbloom.com/Eqn_DIlluminant.html), **Wyszecki & Stiles**, *Color Science - Concepts and Methods Data and Formulae - Second Edition*, Page 146."
     ]
    },
    {
     "cell_type": "code",
     "collapsed": false,
     "input": [
      "# Plotting *CIE Standard Illuminant D Series* S spectral power distributions.\n",
      "multi_spectral_power_distribution_plot(sorted(color.D_ILLUMINANTS_S_SPDS.values()),\n",
      "                                       title=\"CIE Standard Illuminant D Series - S Distributions\")"
     ],
     "language": "python",
     "metadata": {},
     "outputs": []
    },
    {
     "cell_type": "code",
     "collapsed": false,
     "input": [
      "# Plotting *CIE Standard Illuminant D Series* into the *Planckian Locus*.\n",
      "planckian_locus_CIE_1960_UCS_chromaticity_diagram_plot(sorted(filter(lambda x: re.match(\"D\\d{2}\", x), color.ILLUMINANTS_RELATIVE_SPDS.keys())),\n",
      "                                                       bounding_box=[0.15, 0.35, 0.25, 0.45])"
     ],
     "language": "python",
     "metadata": {},
     "outputs": []
    },
    {
     "cell_type": "heading",
     "level": 2,
     "metadata": {},
     "source": [
      "CIE Standard Illuminant E"
     ]
    },
    {
     "cell_type": "markdown",
     "metadata": {},
     "source": [
      "[CIE Standard Illuminant E](http://en.wikipedia.org/wiki/Standard_illuminant#Illuminant_E) is a theoretical reference equal energy radiator. All the wavelengths of its relative spectral power distribution are weighted equally with a relative spectral power of 100.0. *CIE Standard Illuminant E* is not a *blackbody* so it doesn't have a color temperature, but it can be approximated by a *CIE Standard Illuminant D Series* with a correlated color temperature of 5455 K (*CIE Standard Illuminant D55* is the closest match)."
     ]
    },
    {
     "cell_type": "code",
     "collapsed": false,
     "input": [
      "planckian_locus_CIE_1960_UCS_chromaticity_diagram_plot([\"D55\", \"E\"],\n",
      "                                                       bounding_box=[0.15, 0.35, 0.25, 0.45])"
     ],
     "language": "python",
     "metadata": {},
     "outputs": []
    },
    {
     "cell_type": "code",
     "collapsed": false,
     "input": [
      "single_illuminant_relative_spd_plot(\"E\")"
     ],
     "language": "python",
     "metadata": {},
     "outputs": []
    },
    {
     "cell_type": "heading",
     "level": 2,
     "metadata": {},
     "source": [
      "Illuminants F Series"
     ]
    },
    {
     "cell_type": "markdown",
     "metadata": {},
     "source": [
      "[Illuminants F Series](http://en.wikipedia.org/wiki/Standard_illuminant#Illuminant_series_F) are not *CIE Standard Illuminants*, but they have been compiled by the *CIE* for use as representative fluorescent lighting distributions for practical purposes.\n",
      "\n",
      "The \ufb01rst 12, *FL1* to *FL12*, are in three different groups, *Normal*, *Broad-Band*, and *Three-Band*:\n",
      "\n",
      "* *F1* to *F6* are *Normal* and consist of two *semi-broadband* emissions of antimony and manganese activations in calcium halophosphate phosphor.\n",
      "* *F7* to *F9* are *Broad-Band* full-spectrum light fluorescent lamps with multiple phosphors, and higher [color rendering indexes](http://en.wikipedia.org/wiki/Color_rendering_index).\n",
      "* *F10* to *F12* are *Three-Band* illuminants consisting of three *Narrow-Band* emissions caused by ternary compositions of rare-earth phosphors.\n",
      "\n",
      "The subsequent 15, *FL3.1* to *FL3.15*, are in \ufb01ve different groups: *Halophosphate*, *DeLuxe*, *Three-Band*, *Multi-Band*, and *D65 Simulator*:\n",
      "\n",
      "* *FL3.1* to *FL3.3* form the *Halophosphate* group.\n",
      "* *FL3.4* to *FL3.6* form the *DeLuxe* group.\n",
      "* *FL3.7* to *FL3.11* form the *Three-Band* group.\n",
      "* *FL3.12* to *FL3.14* form the *Multi-Band* group.\n",
      "* *FL3.15* is the *D65 Simulator*.\n"
     ]
    },
    {
     "cell_type": "code",
     "collapsed": false,
     "input": [
      "# Plotting the *Normal* group of fluorescent illuminants.\n",
      "multi_illuminants_relative_spd_plot([\"F1\", \"F2\", \"F3\", \"F4\", \"F5\", \"F6\"])"
     ],
     "language": "python",
     "metadata": {},
     "outputs": []
    },
    {
     "cell_type": "code",
     "collapsed": false,
     "input": [
      "# Plotting the *Broad-Band* group of fluorescent illuminants.\n",
      "multi_illuminants_relative_spd_plot([\"F7\", \"F8\", \"F9\"])"
     ],
     "language": "python",
     "metadata": {},
     "outputs": []
    },
    {
     "cell_type": "code",
     "collapsed": false,
     "input": [
      "# Plotting the *Three-Band* group of fluorescent illuminants.\n",
      "multi_illuminants_relative_spd_plot([\"F10\", \"F11\", \"F12\"])"
     ],
     "language": "python",
     "metadata": {},
     "outputs": []
    },
    {
     "cell_type": "code",
     "collapsed": false,
     "input": [
      "# Plotting the *Halophosphate* group of fluorescent illuminants.\n",
      "multi_illuminants_relative_spd_plot([\"FL3.1\", \"FL3.2\", \"FL3.3\"])"
     ],
     "language": "python",
     "metadata": {},
     "outputs": []
    },
    {
     "cell_type": "code",
     "collapsed": false,
     "input": [
      "# Plotting the *DeLuxe* group of fluorescent illuminants.\n",
      "multi_illuminants_relative_spd_plot([\"FL3.4\", \"FL3.5\", \"FL3.6\"])"
     ],
     "language": "python",
     "metadata": {},
     "outputs": []
    },
    {
     "cell_type": "code",
     "collapsed": false,
     "input": [
      "# Plotting the *Three-Band* group of fluorescent illuminants.\n",
      "multi_illuminants_relative_spd_plot([\"FL3.7\", \"FL3.8\", \"FL3.9\", \"FL3.10\", \"FL3.11\"])"
     ],
     "language": "python",
     "metadata": {},
     "outputs": []
    },
    {
     "cell_type": "code",
     "collapsed": false,
     "input": [
      "# Plotting the *Multi-Band* group of fluorescent illuminants.\n",
      "multi_illuminants_relative_spd_plot([\"FL3.12\", \"FL3.13\", \"FL3.14\"])"
     ],
     "language": "python",
     "metadata": {},
     "outputs": []
    },
    {
     "cell_type": "code",
     "collapsed": false,
     "input": [
      "# Plotting *D65 Simulator* fluorescent illuminant against *CIE Standard Illuminant D65*.\n",
      "multi_illuminants_relative_spd_plot([\"FL3.15\", \"D65\"])"
     ],
     "language": "python",
     "metadata": {},
     "outputs": []
    },
    {
     "cell_type": "heading",
     "level": 2,
     "metadata": {},
     "source": [
      "High Pressure Discharge Lamps"
     ]
    },
    {
     "cell_type": "markdown",
     "metadata": {},
     "source": [
      "[High pressure discharge lamps](http://en.wikipedia.org/wiki/Gas-discharge_lamp) are artificial light sources generating light by sending an electrical discharge through an ionized gas.\n",
      "\n",
      "* *HP1* is a standard high pressure sodium lamp.\n",
      "* *HP2* is a color enhanced high pressure sodium lamp.\n",
      "* *HP3* to *HP5* are three types of high pressure metal halide lamps.\n"
     ]
    },
    {
     "cell_type": "code",
     "collapsed": false,
     "input": [
      "# Plotting all *high pressure discharge* lamps.\n",
      "multi_illuminants_relative_spd_plot(sorted(filter(lambda x: re.match(\"HP\\d\", x), color.ILLUMINANTS_RELATIVE_SPDS.keys())))"
     ],
     "language": "python",
     "metadata": {},
     "outputs": []
    }
   ],
   "metadata": {}
  }
 ]
}