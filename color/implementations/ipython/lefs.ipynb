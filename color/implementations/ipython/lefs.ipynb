{
 "metadata": {
  "name": "",
  "signature": "sha256:d0828e43c882ca87e3f553ff7414c9afcce23c85e85a3f436c7dec489f67630e"
 },
 "nbformat": 3,
 "nbformat_minor": 0,
 "worksheets": [
  {
   "cells": [
    {
     "cell_type": "heading",
     "level": 1,
     "metadata": {},
     "source": [
      "Luminous Efficiency Functions"
     ]
    },
    {
     "cell_type": "markdown",
     "metadata": {},
     "source": [
      "The [luminous efficiency function](http://en.wikipedia.org/wiki/Luminosity_function) characterizes the average spectral sensitivity of human visual perception of brightness. [Brightness](http://en.wikipedia.org/wiki/Brightness) is defined as the attribute of a visual sensation according to which an area appears to emit more or less light. [Photometry](http://goo.gl/JNMw6u) is the science of measurement of the intensity of light in terms of its perceived brightness to the human visual system."
     ]
    },
    {
     "cell_type": "heading",
     "level": 2,
     "metadata": {},
     "source": [
      "Photometry"
     ]
    },
    {
     "cell_type": "markdown",
     "metadata": {},
     "source": [
      "Photometry is analogous to [radiometry](http://en.wikipedia.org/wiki/Radiometry) but is dedicated to the measurement of electromatic radiation frequencies over the visible spectrum. Photometric quantities are weighted accordingly to human visual system spectral sensitivity within the wavelength range 360-780 nanometres (nm) while radiometric quantities represent unweighted absolute power within the wavelength range 0.01-1000 micrometres (mm).\n",
      "\n",
      "Photometry uses the following quantities, terms and units:\n",
      "\n",
      "| Quantity / Term            | Symbol           | Defining Equation                                                                                                                                                                              | Units            | Units Name                                                            | Notes                                                                                                                                                                                                                                                                                                                                                                             |\n",
      "|----------------------------|:----------------:|------------------------------------------------------------------------------------------------------------------------------------------------------------------------------------------------|:----------------:|:---------------------------------------------------------------------:|-----------------------------------------------------------------------------------------------------------------------------------------------------------------------------------------------------------------------------------------------------------------------------------------------------------------------------------------------------------------------------------|\n",
      "| Solid angle                | $\\omega$         | $\\omega=\\cfrac{S}{r^2}$                                                                                                                                                                        | $sr$             | Steradian                                                             | $S$: Portion of sphere surface<br>$r$: Radius of sphere, also distance between (1) of $dA_1$ and (2) of $dA_2$                                                                                                                                                                                                                                                                    |\n",
      "| Frequency                  | $v$              |                                                                                                                                                                                                | $s^{-1}$         |                                                                       |                                                                                                                                                                                                                                                                                                                                                                                   |\n",
      "| Wavelength                 | $\\lambda$        | $\\lambda=\\cfrac{c}{v}$                                                                                                                                                                         | $m$              | Metre                                                                 | $c$: Velocity of radiant energy in vacuum                                                                                                                                                                                                                                                                                                                                         |\n",
      "| Wavelnumber                | $m$              | $m=\\cfrac{1}{\\lambda}$                                                                                                                                                                         | $m^{-1}$         | Metre                                                                 |                                                                                                                                                                                                                                                                                                                                                                                   |\n",
      "| Luminous energy            | $Q_v$            |                                                                                                                                                                                                | $lm\\cdot s$      | Lumen second                                                          |                                                                                                                                                                                                                                                                                                                                                                                   |\n",
      "| Luminous flux (or power)   | $F_v$ (or $P_v$) | $F_v=KP_e$<br>$F_v=K_m\\int_\\lambda P_{e\\lambda}V(\\lambda)d\\lambda$                                                                                                                             | $lm$             | Lumen<br>($cd\\cdot sr$)                                               | $P_e$: Radiant flux ($W$)<br>$K$: Luminous efficacy ($lm\\cdot W^{-1}$)                                                                                                                                                                                                                                                                                                            |\n",
      "| Luminous intensity         | $I_v$            | $I_v=\\cfrac{dF_v}{d\\omega_I}$                                                                                                                                                                  | $cd$             | Candela<br>($lm\\cdot sr^{-1}$)                                        | Luminous flux per unit solid angle<br>$d\\omega_I$: Element of solid angle with apex (1) at surface of source.                                                                                                                                                                                                                                                                     |\n",
      "| Luminance                  | $L_v$            | $L_v=\\cfrac{d^2F_v}{dA_1\\cos\\varepsilon_1d\\omega_1}$<br>$L_v=\\cfrac{dI_v}{dA_1\\cos\\varepsilon_1}$<br>$L_v=\\cfrac{d^2E_v}{dA_2\\cos\\varepsilon_2d\\omega_2}$<br>$L_v=\\cfrac{dE_{v,n}}{d\\omega_2}$ | $cd\\cdot m^{-2}$ | Candela per square metre (or nits)<br>($lm\\cdot m^{-2}\\cdot sr^{-1}$) | $dA_1$: Surface element of source<br>$\\varepsilon_1$ Angle between given direction (1)-(2) and normal $n_1$ of $dA_1$<br>$dA_1\\cos\\varepsilon_1$: $dA$ orthogonally projected on plane perpendicular to given direction (1)-(2)<br>$dE_{v, n}$: Illuminance on $dA_2$ normal to the direction (1)-(2)<br>$d\\omega_2$: Element of solid angle with apex (2) at surface of receiver |\n",
      "| Illuminance                | $E_v$            | $E_v=\\cfrac{dF_v}{dA_2}$                                                                                                                                                                       | $lx$             | Lumen per square metre (or lux)<br>($lm\\cdot m^{-2}$)                 | $dA_2$: Surface element of receiver                                                                                                                                                                                                                                                                                                                                               |\n",
      "| Luminous exitance          | $Mv$             | $M=\\cfrac{dF_v}{dA_1}$                                                                                                                                                                         | $lx$             | Lumen per square metre (or lux)<br>($lm\\cdot m^{-2}$)                 |                                                                                                                                                                                                                                                                                                                                                                                   |\n",
      "| Luminous efficacy function | $K(\\lambda)$     | $K(\\lambda)=K_mV(\\lambda)$                                                                                                                                                                     |                  |                                                                       | $V(\\lambda)$: Relative photopic luminous efficiency function                                                                                                                                                                                                                                                                                                                      |\n",
      "\n",
      "\n",
      "A quantity in the photometric system has a similar quantity in the radiometric system:\n",
      "\n",
      "* *Luminous energy* and *radiant energy* from the radiometric system. *Radiant enery* symbol is $Qe$ with *joule* ($J$) unit.\n",
      "* *Luminous flux* and *radiant flux* from the radiometric system. *Radiant power* symbol is $P_e$ with *watt* ($W$) unit, $W=J\\cdot s^{-1}$.\n",
      "* *Luminance* and *radiance* from the radiometric system. *Radiance* symbol is $L_e$ with *watt per steradian per square metre* ($W\\cdot sr^{-1}\\cdot m^{-2}$) unit.\n",
      "\n",
      "\n",
      "> Reference: **Wyszecki & Stiles**, *Color Science - Concepts and Methods Data and Formulae - Second Edition*, Pages 2, 3, 250"
     ]
    },
    {
     "cell_type": "code",
     "collapsed": false,
     "input": [],
     "language": "python",
     "metadata": {},
     "outputs": []
    }
   ],
   "metadata": {}
  }
 ]
}