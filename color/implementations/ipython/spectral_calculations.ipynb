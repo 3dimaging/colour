{
 "metadata": {
  "name": "",
  "signature": "sha256:eb9f0b148c2e72a3197d21311dbaea7e9ecd40609b922de9b5da8616c997c6b4"
 },
 "nbformat": 3,
 "nbformat_minor": 0,
 "worksheets": [
  {
   "cells": [
    {
     "cell_type": "markdown",
     "metadata": {},
     "source": [
      "Spectral Calculations\n",
      "=====================\n",
      "\n",
      "[Color](http://en.wikipedia.org/wiki/Color) is the property of a surface to produce different visual sensations as a result of the way it reflects or emits light.\n",
      "\n",
      "[Light](http://en.wikipedia.org/wiki/Light) is the electromagnetic radiation perceived by the human eye in the approximate range 360-780 nanometres. That portion of the electromatic radiation frequencies is called the [visible spectrum](http://en.wikipedia.org/wiki/Visible_spectrum).\n",
      "\n",
      "Ligth interacts with surfaces through reflection, scattering, refraction, absorption and diffraction processes.\n",
      "\n",
      "[Reflectance](http://en.wikipedia.org/wiki/Reflectance) is the ratio of the total amount of electromagnetic radiation reflected by a surface to the total amount of electromagnetic radiation incident on the surface and is defined by spectral reflectance factors usually measured at uniformly spaced intervales in the visisble spectrum.\n",
      "\n",
      "At the core of [Color](https://github.com/KelSolaar/Color/) is the *color.spectral* sub-package:"
     ]
    },
    {
     "cell_type": "code",
     "collapsed": false,
     "input": [
      "import color.spectral"
     ],
     "language": "python",
     "metadata": {},
     "outputs": [],
     "prompt_number": 1
    },
    {
     "cell_type": "markdown",
     "metadata": {},
     "source": [
      "> Note: *color.spectral* sub-package content is available in *color* namespace.\n",
      "\n",
      "It defines the objects and data needed for spectral computations."
     ]
    },
    {
     "cell_type": "markdown",
     "metadata": {},
     "source": [
      "Spectral Power Distribution\n",
      "---------------------------\n",
      "\n",
      "Whether it be a sample spectral power distribution, color matching functions or illuminants, the data is manipulated using an object built with the *color.spectral.spd.SpectralPowerDistribution* class or upon on it:"
     ]
    },
    {
     "cell_type": "code",
     "collapsed": false,
     "input": [
      "import color\n",
      "\n",
      "# Defining a sample spectral power distribution data.\n",
      "SAMPLE_SPD_DATA = {340: 0.0000,\n",
      "                   345: 0.0000,\n",
      "                   350: 0.0000,\n",
      "                   355: 0.0000,\n",
      "                   360: 0.0000,\n",
      "                   365: 0.0000,\n",
      "                   370: 0.0000,\n",
      "                   375: 0.0000,\n",
      "                   380: 0.0000,\n",
      "                   385: 0.0000,\n",
      "                   390: 0.0000,\n",
      "                   395: 0.0000,\n",
      "                   400: 0.0641,\n",
      "                   405: 0.0650,\n",
      "                   410: 0.0654,\n",
      "                   415: 0.0652,\n",
      "                   420: 0.0645,\n",
      "                   425: 0.0629,\n",
      "                   430: 0.0605,\n",
      "                   435: 0.0581,\n",
      "                   440: 0.0562,\n",
      "                   445: 0.0551,\n",
      "                   450: 0.0543,\n",
      "                   455: 0.0539,\n",
      "                   460: 0.0537,\n",
      "                   465: 0.0538,\n",
      "                   470: 0.0541,\n",
      "                   475: 0.0547,\n",
      "                   480: 0.0559,\n",
      "                   485: 0.0578,\n",
      "                   490: 0.0603,\n",
      "                   495: 0.0629,\n",
      "                   500: 0.0651,\n",
      "                   505: 0.0667,\n",
      "                   510: 0.0680,\n",
      "                   515: 0.0691,\n",
      "                   520: 0.0705,\n",
      "                   525: 0.0720,\n",
      "                   530: 0.0736,\n",
      "                   535: 0.0753,\n",
      "                   540: 0.0772,\n",
      "                   545: 0.0791,\n",
      "                   550: 0.0809,\n",
      "                   555: 0.0833,\n",
      "                   560: 0.0870,\n",
      "                   565: 0.0924,\n",
      "                   570: 0.0990,\n",
      "                   575: 0.1061,\n",
      "                   580: 0.1128,\n",
      "                   585: 0.1190,\n",
      "                   590: 0.1251,\n",
      "                   595: 0.1308,\n",
      "                   600: 0.1360,\n",
      "                   605: 0.1403,\n",
      "                   610: 0.1439,\n",
      "                   615: 0.1473,\n",
      "                   620: 0.1511,\n",
      "                   625: 0.1550,\n",
      "                   630: 0.1590,\n",
      "                   635: 0.1634,\n",
      "                   640: 0.1688,\n",
      "                   645: 0.1753,\n",
      "                   650: 0.1828,\n",
      "                   655: 0.1909,\n",
      "                   660: 0.1996,\n",
      "                   665: 0.2088,\n",
      "                   670: 0.2187,\n",
      "                   675: 0.2291,\n",
      "                   680: 0.2397,\n",
      "                   685: 0.2505,\n",
      "                   690: 0.2618,\n",
      "                   695: 0.2733,\n",
      "                   700: 0.2852,\n",
      "                   705: 0.0000,\n",
      "                   710: 0.0000,\n",
      "                   715: 0.0000,\n",
      "                   720: 0.0000,\n",
      "                   725: 0.0000,\n",
      "                   730: 0.0000,\n",
      "                   735: 0.0000,\n",
      "                   740: 0.0000,\n",
      "                   745: 0.0000,\n",
      "                   750: 0.0000,\n",
      "                   755: 0.0000,\n",
      "                   760: 0.0000,\n",
      "                   765: 0.0000,\n",
      "                   770: 0.0000,\n",
      "                   775: 0.0000,\n",
      "                   780: 0.0000,\n",
      "                   785: 0.0000,\n",
      "                   790: 0.0000,\n",
      "                   795: 0.0000,\n",
      "                   800: 0.0000,\n",
      "                   805: 0.0000,\n",
      "                   810: 0.0000,\n",
      "                   815: 0.0000,\n",
      "                   820: 0.0000,\n",
      "                   825: 0.0000,\n",
      "                   830: 0.0000}\n",
      "\n",
      "spd = color.SpectralPowerDistribution(name=\"Sample\", spd=SAMPLE_SPD_DATA)"
     ],
     "language": "python",
     "metadata": {},
     "outputs": [],
     "prompt_number": 2
    },
    {
     "cell_type": "markdown",
     "metadata": {},
     "source": [
      "[Color](https://github.com/KelSolaar/Color/) offers comprehensive plotting capabilities:"
     ]
    },
    {
     "cell_type": "code",
     "collapsed": false,
     "input": [
      "%matplotlib inline\n",
      "from color.implementations.matplotlib.plots import *\n",
      "\n",
      "# Plotting the sample spectral power distribution.\n",
      "single_spectral_power_distribution_plot(spd)"
     ],
     "language": "python",
     "metadata": {},
     "outputs": [
      {
       "output_type": "stream",
       "stream": "stdout",
       "text": [
        "Populating the interactive namespace from numpy and matplotlib\n"
       ]
      },
      {
       "output_type": "stream",
       "stream": "stderr",
       "text": [
        "WARNING: pylab import has clobbered these variables: ['display']\n",
        "`%matplotlib` prevents importing * from pylab and numpy\n"
       ]
      },
      {
       "metadata": {},
       "output_type": "display_data",
       "png": "[encoded data removed]",
       "text": [
        "<matplotlib.figure.Figure at 0x105e88a10>"
       ]
      },
      {
       "metadata": {},
       "output_type": "pyout",
       "prompt_number": 3,
       "text": [
        "True"
       ]
      }
     ],
     "prompt_number": 3
    },
    {
     "cell_type": "markdown",
     "metadata": {},
     "source": [
      "Once the sample spectral power distribution shape defined one can retrieve the shape: "
     ]
    },
    {
     "cell_type": "code",
     "collapsed": false,
     "input": [
      "# Displaying the sample spectral power distribution shape.\n",
      "print(spd.shape)"
     ],
     "language": "python",
     "metadata": {},
     "outputs": [
      {
       "output_type": "stream",
       "stream": "stdout",
       "text": [
        "(340, 830, 5)\n"
       ]
      }
     ],
     "prompt_number": 14
    },
    {
     "cell_type": "markdown",
     "metadata": {},
     "source": [
      "Often interpolation of the spectral power distribution is needed, this is achieved using the *color.spectral.spd.SpectralPowerDistribution.interpolate* method. Depending the uniformity the interpolation method will be different, following *CIE 167:2005* recommendations: the method developed by *Sprague* (1880) should be used for interpolating functions having a uniformly spaced independent variable and a *Cubic Spline* method for non-uniformly spaced independent variable.\n",
      "\n",
      "> Reference: http://div1.cie.co.at/?i_ca_id=551&pubid=47\n",
      "\n",
      "We can check the uniformity of the sample spectral power distribution:"
     ]
    },
    {
     "cell_type": "code",
     "collapsed": false,
     "input": [
      "# Checking the sample spectral power distribution uniformity.\n",
      "print(spd.is_uniform())"
     ],
     "language": "python",
     "metadata": {},
     "outputs": [
      {
       "output_type": "stream",
       "stream": "stdout",
       "text": [
        "True\n"
       ]
      }
     ],
     "prompt_number": 3
    },
    {
     "cell_type": "markdown",
     "metadata": {},
     "source": [
      "Since the sample spectral power distribution is uniform the interpolation will be using the *color.algebra.interpolation.SpragueInterpolator* interpolator.\n",
      "\n",
      "> Note: Interpolation happens in place and may alter your original data, use the *color.spectral.spd.SpectralPowerDistribution.clone* method to produce a copy of your spectral power distribution.\n"
     ]
    },
    {
     "cell_type": "code",
     "collapsed": false,
     "input": [
      "# Cloning the sample spectral power distribution.\n",
      "clone_spd = spd.clone()\n",
      "\n",
      "# Interpolating the cloned sample spectral power distribution.\n",
      "clone_spd.interpolate(start=400, end=700, steps=1)\n",
      "print(clone_spd[666])"
     ],
     "language": "python",
     "metadata": {},
     "outputs": [
      {
       "output_type": "stream",
       "stream": "stdout",
       "text": [
        "0.21072512\n"
       ]
      }
     ],
     "prompt_number": 4
    },
    {
     "cell_type": "markdown",
     "metadata": {},
     "source": [
      "Extrapolation although dangerous can be used to help aligning two spectral power distributions together. *CIE publication CIE 15:2004 \"Colorimetry\"* recommends that unmeasured values may be set equal to the nearest measured value of the appropriate quantity in truncation:"
     ]
    },
    {
     "cell_type": "code",
     "collapsed": false,
     "input": [
      "# Extrapolating the cloned sample spectral power distribution.\n",
      "clone_spd.extrapolate(start=340, end=830)\n",
      "print(clone_spd[340], clone_spd[360])\n"
     ],
     "language": "python",
     "metadata": {},
     "outputs": [
      {
       "output_type": "stream",
       "stream": "stdout",
       "text": [
        "(0.064100000000000004, 0.064100000000000004)\n"
       ]
      }
     ],
     "prompt_number": 5
    },
    {
     "cell_type": "markdown",
     "metadata": {},
     "source": [
      "Aligning a spectral power distributions against another one shape first interpolates within its original bounds the current data, then extrapolates any missing values:"
     ]
    },
    {
     "cell_type": "code",
     "collapsed": false,
     "input": [
      "# Aligning the cloned sample spectral power distribution.\n",
      "clone_spd.align(start=400, end=700, steps=5)\n",
      "print(clone_spd[400], clone_spd[700])"
     ],
     "language": "python",
     "metadata": {},
     "outputs": [
      {
       "output_type": "stream",
       "stream": "stdout",
       "text": [
        "(0.064100000000000004, 0.28520000000000001)\n"
       ]
      }
     ],
     "prompt_number": 7
    },
    {
     "cell_type": "markdown",
     "metadata": {},
     "source": [
      "Color Matching Functions\n",
      "------------------------\n",
      "\n",
      "The *CIE*'s standard observer color matching functions are the amounts of three primaries (*R*, *G*, *B*) required to match one unit of intensity of a single wavelength of light."
     ]
    },
    {
     "cell_type": "code",
     "collapsed": false,
     "input": [],
     "language": "python",
     "metadata": {},
     "outputs": []
    }
   ],
   "metadata": {}
  }
 ]
}