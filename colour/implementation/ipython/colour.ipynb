{
 "metadata": {
  "name": "",
  "signature": "sha256:0e3ce3d93fbd38f463018c463b81862b144ae32084ade2adcec232675bd2c25b"
 },
 "nbformat": 3,
 "nbformat_minor": 0,
 "worksheets": [
  {
   "cells": [
    {
     "cell_type": "heading",
     "level": 1,
     "metadata": {},
     "source": [
      "Colour"
     ]
    },
    {
     "cell_type": "heading",
     "level": 2,
     "metadata": {},
     "source": [
      "Introduction"
     ]
    },
    {
     "cell_type": "markdown",
     "metadata": {},
     "source": [
      "[Colour](https://github.com/KelSolaar/Colour/) is a **Python** colour science package implementing a comprehensive number of colour theory transformations and algorithms."
     ]
    },
    {
     "cell_type": "code",
     "collapsed": false,
     "input": [
      "from colour.implementation.matplotlib.plots import visible_spectrum_plot\n",
      "visible_spectrum_plot()"
     ],
     "language": "python",
     "metadata": {},
     "outputs": [
      {
       "metadata": {},
       "output_type": "display_data",
       "png": "[encoded data removed]",
       "text": [
        "<matplotlib.figure.Figure at 0x105f45710>"
       ]
      },
      {
       "metadata": {},
       "output_type": "pyout",
       "prompt_number": 1,
       "text": [
        "True"
       ]
      }
     ],
     "prompt_number": 1
    },
    {
     "cell_type": "heading",
     "level": 2,
     "metadata": {},
     "source": [
      "Usage"
     ]
    },
    {
     "cell_type": "markdown",
     "metadata": {},
     "source": [
      "This notebook is a companion guide and usage showcase. Most of the public API is available from the root *colour* namespace:"
     ]
    },
    {
     "cell_type": "code",
     "collapsed": false,
     "input": [
      "import colour\n",
      "print dir(colour)"
     ],
     "language": "python",
     "metadata": {},
     "outputs": [
      {
       "output_type": "stream",
       "stream": "stdout",
       "text": [
        "['ACES_RGB_COLOURSPACE', 'ACES_RGB_LOG_COLOURSPACE', 'ACES_RGB_PROXY_10_COLOURSPACE', 'ACES_RGB_PROXY_12_COLOURSPACE', 'ADOBE_RGB_1998_COLOURSPACE', 'ADOBE_WIDE_GAMUT_RGB_COLOURSPACE', 'ALEXA_WIDE_GAMUT_RGB_COLOURSPACE', 'APPLE_RGB_COLOURSPACE', 'BEST_RGB_COLOURSPACE', 'BETA_RGB_COLOURSPACE', 'CCT_to_uv', 'CCT_to_uv_ohno', 'CCT_to_uv_robertson', 'CHROMATIC_ADAPTATION_METHODS', 'CIE_RGB_COLOURSPACE', 'CMFS', 'COLOURCHECKERS', 'COLOURCHECKERS_SPDS', 'COLOURSPACES', 'COLOR_MATCH_RGB_COLOURSPACE', 'C_LOG_COLOURSPACE', 'Colourspace', 'Constants', 'DCI_P3_COLOURSPACE', 'DON_RGB_4_COLOURSPACE', 'D_ILLUMINANTS_S_SPDS', 'D_illuminant_CCT_to_xy', 'D_illuminant_relative_spd', 'ECI_RGB_V2_COLOURSPACE', 'EKTA_SPACE_PS_5_COLOURSPACE', 'ILLUMINANTS', 'ILLUMINANTS_RELATIVE_SPDS', 'LCHab_to_Lab', 'LCHuv_to_Luv', 'LEFS', 'LIGHTNESS_FUNCTIONS', 'LMS_10_degree_cmfs_to_XYZ_10_degree_cmfs', 'LMS_2_degree_cmfs_to_XYZ_2_degree_cmfs', 'LMS_CMFS', 'LMS_ConeFundamentals', 'LOGGER', 'Lab_to_LCHab', 'Lab_to_XYZ', 'Luv_to_LCHuv', 'Luv_to_XYZ', 'Luv_to_uv', 'Luv_uv_to_xy', 'MAX_RGB_COLOURSPACE', 'MUNSELL_VALUE_FUNCTIONS', 'NTSC_RGB_COLOURSPACE', 'PAL_SECAM_RGB_COLOURSPACE', 'PHOTOPIC_LEFS', 'POINTER_GAMUT_DATA', 'PROPHOTO_RGB_COLOURSPACE', 'REC_2020_COLOURSPACE', 'REC_709_COLOURSPACE', 'RGB_10_degree_cmfs_to_LMS_10_degree_cmfs', 'RGB_10_degree_cmfs_to_XYZ_10_degree_cmfs', 'RGB_2_degree_cmfs_to_XYZ_2_degree_cmfs', 'RGB_CMFS', 'RGB_ColourMatchingFunctions', 'RGB_to_XYZ', 'RGB_to_xyY', 'RUSSELL_RGB_COLOURSPACE', 'SCOTOPIC_LEFS', 'SMPTE_C_RGB_COLOURSPACE', 'STANDARD_OBSERVERS_CMFS', 'S_LOG_COLOURSPACE', 'SpectralPowerDistribution', 'TriSpectralPowerDistribution', 'SpragueInterpolator', 'TCS_SPDS', 'UCS_to_XYZ', 'UCS_to_uv', 'UCS_uv_to_xy', 'XTREME_RGB_COLOURSPACE', 'XYZ_ColourMatchingFunctions', 'XYZ_to_Lab', 'XYZ_to_Luv', 'XYZ_to_RGB', 'XYZ_to_UCS', 'XYZ_to_UVW', 'XYZ_to_xy', 'XYZ_to_xyY', '__all__', '__author__', '__builtins__', '__copyright__', '__doc__', '__email__', '__file__', '__license__', '__maintainer__', '__name__', '__package__', '__path__', '__status__', '__version__', 'algebra', 'bandpass_correction', 'bandpass_correction_stearns', 'blackbody_spectral_power_distribution', 'blackbody_spectral_radiance', 'computation', 'dataset', 'delta_E_CIE_1976', 'delta_E_CIE_1994', 'delta_E_CIE_2000', 'delta_E_CMC', 'first_order_colour_fit', 'foundations', 'get_chromatic_adaptation_matrix', 'get_closest', 'get_colour_rendering_index', 'get_lightness', 'get_logging_console_handler', 'get_luminance', 'get_luminance_equation', 'get_munsell_value', 'get_normalized_primary_matrix', 'get_steps', 'globals', 'implementation', 'install_logger', 'is_identity', 'is_uniform', 'lightness_1958', 'lightness_1964', 'lightness_1976', 'linear_interpolate_matrices', 'linear_regression', 'luminance_1943', 'luminance_1976', 'mesopic_luminous_efficiency_function', 'mesopic_weighting_function', 'munsell_value_1920', 'munsell_value_1933', 'munsell_value_1943', 'munsell_value_1944', 'munsell_value_1955', 'planck_law', 'sRGB_COLOURSPACE', 'set_verbosity_level', 'spectral_to_XYZ', 'unicode_literals', 'utilities', 'uv_to_CCT', 'uv_to_CCT_ohno', 'uv_to_CCT_robertson', 'wavelength_to_XYZ', 'xyY_to_RGB', 'xyY_to_XYZ', 'xy_to_XYZ']\n"
       ]
      }
     ],
     "prompt_number": 2
    },
    {
     "cell_type": "markdown",
     "metadata": {},
     "source": [
      "The notebook has been divided in different chapters dedicated to showcase the API:\n",
      "\n",
      "* [Spectrum](spectrum.ipynb)\n",
      "* [Spectral Bandpass Dependence Correction](correction.ipynb)\n",
      "* [Colour Matching Functions](cmfs.ipynb)\n",
      "* [Luminous Efficiency Functions](lefs.ipynb)\n",
      "* [Blackbody](blackbody.ipynb)\n",
      "* [Illuminants](illuminants.ipynb)\n",
      "* [Colour Temperature & Correlated Colour Temperature](temperature.ipynb)\n"
     ]
    },
    {
     "cell_type": "code",
     "collapsed": false,
     "input": [],
     "language": "python",
     "metadata": {},
     "outputs": []
    }
   ],
   "metadata": {}
  }
 ]
}